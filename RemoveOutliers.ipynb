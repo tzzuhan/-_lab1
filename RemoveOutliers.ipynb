{
 "cells": [
  {
   "cell_type": "code",
   "execution_count": 1,
   "id": "2946d852",
   "metadata": {},
   "outputs": [
    {
     "name": "stdout",
     "output_type": "stream",
     "text": [
      "Enter the number of smallest and largest values to remove:2\n",
      "Enter a value (q or Q to quit):3\n",
      "Enter a value (q or Q to quit):2\n",
      "Enter a value (q or Q to quit):5\n",
      "Enter a value (q or Q to quit):3\n",
      "Enter a value (q or Q to quit):55\n",
      "Enter a value (q or Q to quit):66\n",
      "Enter a value (q or Q to quit):-3\n",
      "Enter a value (q or Q to quit):-2\n",
      "Enter a value (q or Q to quit):q\n",
      "The original data: [3, 2, 5, 3, 55, 66, -3, -2]\n",
      "The data with the outliers removed: [3, 2, 5, 3]\n",
      "The outliers: [66, -3, 55, -2]\n"
     ]
    }
   ],
   "source": [
    "a_list=[]\n",
    "\n",
    "rm =int(input('Enter the number of smallest and largest values to remove:'))\n",
    "b_list=[]\n",
    "value = input('Enter a value (q or Q to quit):')\n",
    "while (value != 'q' and value!= 'Q'):\n",
    "    a_list.append(int(value))\n",
    "    value = input ('Enter a value (q or Q to quit):')\n",
    "    \n",
    "print('The original data:',a_list)\n",
    "\n",
    "while(rm>0):\n",
    "    b_list.append(max(a_list))\n",
    "    a_list.remove(max(a_list))\n",
    "    b_list.append(min(a_list))\n",
    "    a_list.remove(min(a_list))\n",
    "\n",
    "    rm -= 1\n",
    "    \n",
    "print('The data with the outliers removed:',a_list)\n",
    "print('The outliers:',b_list)"
   ]
  },
  {
   "cell_type": "code",
   "execution_count": null,
   "id": "c53ab5e7",
   "metadata": {},
   "outputs": [],
   "source": []
  }
 ],
 "metadata": {
  "kernelspec": {
   "display_name": "Python 3",
   "language": "python",
   "name": "python3"
  },
  "language_info": {
   "codemirror_mode": {
    "name": "ipython",
    "version": 3
   },
   "file_extension": ".py",
   "mimetype": "text/x-python",
   "name": "python",
   "nbconvert_exporter": "python",
   "pygments_lexer": "ipython3",
   "version": "3.8.8"
  }
 },
 "nbformat": 4,
 "nbformat_minor": 5
}
