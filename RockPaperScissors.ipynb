{
 "cells": [
  {
   "cell_type": "code",
   "execution_count": 5,
   "id": "34ee5407",
   "metadata": {},
   "outputs": [
    {
     "name": "stdout",
     "output_type": "stream",
     "text": [
      "Welcome to ROCK, PAPER, SCISSORS game!\n",
      "Enter your move: (r)ock (p)aper (s)cissorsrr\n",
      "ROCK versus...\n",
      "p\n",
      "You lose!\n",
      "Enter your move: (r)ock (p)aper (s)cissorsrr\n",
      "ROCK versus...\n",
      "r\n",
      "It is a tie!\n",
      "Enter your move: (r)ock (p)aper (s)cissorsrp\n",
      "PAPER versus...\n",
      "p\n",
      "It is a tie!\n",
      "Enter your move: (r)ock (p)aper (s)cissorsrr\n",
      "ROCK versus...\n",
      "s\n",
      "You win!\n",
      "You have 2  ties and 1 losses before your first win.\n"
     ]
    }
   ],
   "source": [
    "print(\"Welcome to ROCK, PAPER, SCISSORS game!\")\n",
    "import random\n",
    "tie_count = 0\n",
    "lose_count = 0\n",
    "\n",
    "while True:\n",
    "    computer_move=['r','p','s']\n",
    "    computer_move=random.choice(computer_move)\n",
    "    \n",
    "    move = input('Enter your move: (r)ock (p)aper (s)cissorsr')\n",
    "    if move=='r':\n",
    "        print ('ROCK versus...')\n",
    "    elif move == 'p':\n",
    "        print('PAPER versus...')\n",
    "    else :\n",
    "        print ('SCISSORSR versus...')\n",
    "               \n",
    "    print(computer_move)\n",
    "    \n",
    "    if move==computer_move:\n",
    "        print(\"It is a tie!\")\n",
    "        tie_count += 1\n",
    "        \n",
    "    elif (move=='r' and computer_move == 's')or(move=='s' and computer_move == 'p')or(move=='p' and computer_move == 'r'):\n",
    "        print(\"You win!\")\n",
    "        print(\"You have\",tie_count,\" ties and\",lose_count ,\"losses before your first win.\")\n",
    "        break\n",
    "    else:\n",
    "        print(\"You lose!\")\n",
    "        lose_count += 1 "
   ]
  }
 ],
 "metadata": {
  "kernelspec": {
   "display_name": "Python 3",
   "language": "python",
   "name": "python3"
  },
  "language_info": {
   "codemirror_mode": {
    "name": "ipython",
    "version": 3
   },
   "file_extension": ".py",
   "mimetype": "text/x-python",
   "name": "python",
   "nbconvert_exporter": "python",
   "pygments_lexer": "ipython3",
   "version": "3.8.8"
  }
 },
 "nbformat": 4,
 "nbformat_minor": 5
}
