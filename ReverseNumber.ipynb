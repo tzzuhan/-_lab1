{
 "cells": [
  {
   "cell_type": "code",
   "execution_count": 1,
   "id": "11629587",
   "metadata": {},
   "outputs": [
    {
     "name": "stdout",
     "output_type": "stream",
     "text": [
      "Enter an integer:12356\n",
      "65321"
     ]
    }
   ],
   "source": [
    "a_num = []\n",
    "def reverse(num):\n",
    "    a_num = []\n",
    "    a_num.extend(str(num))\n",
    "    for i in a_num[::-1]:\n",
    "        print(i,end=\"\")\n",
    "num = int(input('Enter an integer:'))\n",
    "reverse(num)"
   ]
  }
 ],
 "metadata": {
  "kernelspec": {
   "display_name": "Python 3",
   "language": "python",
   "name": "python3"
  },
  "language_info": {
   "codemirror_mode": {
    "name": "ipython",
    "version": 3
   },
   "file_extension": ".py",
   "mimetype": "text/x-python",
   "name": "python",
   "nbconvert_exporter": "python",
   "pygments_lexer": "ipython3",
   "version": "3.8.8"
  }
 },
 "nbformat": 4,
 "nbformat_minor": 5
}
